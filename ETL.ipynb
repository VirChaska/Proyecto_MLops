{
 "cells": [
  {
   "cell_type": "markdown",
   "metadata": {},
   "source": [
    "## ETL (Extract, Transform and Load)"
   ]
  },
  {
   "cell_type": "markdown",
   "metadata": {},
   "source": [
    "Importamos las librerias necesarias."
   ]
  },
  {
   "cell_type": "code",
   "execution_count": 1,
   "metadata": {},
   "outputs": [],
   "source": [
    "import ast\n",
    "import pandas as pd\n",
    "import numpy as np"
   ]
  },
  {
   "cell_type": "markdown",
   "metadata": {},
   "source": [
    "Leemos el archivo de juegos de steam y para analizar la estructura, solo leeremos las primeras filas"
   ]
  },
  {
   "cell_type": "code",
   "execution_count": 2,
   "metadata": {},
   "outputs": [
    {
     "data": {
      "text/html": [
       "<div>\n",
       "<style scoped>\n",
       "    .dataframe tbody tr th:only-of-type {\n",
       "        vertical-align: middle;\n",
       "    }\n",
       "\n",
       "    .dataframe tbody tr th {\n",
       "        vertical-align: top;\n",
       "    }\n",
       "\n",
       "    .dataframe thead th {\n",
       "        text-align: right;\n",
       "    }\n",
       "</style>\n",
       "<table border=\"1\" class=\"dataframe\">\n",
       "  <thead>\n",
       "    <tr style=\"text-align: right;\">\n",
       "      <th></th>\n",
       "      <th>publisher</th>\n",
       "      <th>genres</th>\n",
       "      <th>app_name</th>\n",
       "      <th>title</th>\n",
       "      <th>url</th>\n",
       "      <th>release_date</th>\n",
       "      <th>tags</th>\n",
       "      <th>discount_price</th>\n",
       "      <th>reviews_url</th>\n",
       "      <th>specs</th>\n",
       "      <th>price</th>\n",
       "      <th>early_access</th>\n",
       "      <th>id</th>\n",
       "      <th>developer</th>\n",
       "      <th>sentiment</th>\n",
       "      <th>metascore</th>\n",
       "    </tr>\n",
       "  </thead>\n",
       "  <tbody>\n",
       "    <tr>\n",
       "      <th>0</th>\n",
       "      <td>Kotoshiro</td>\n",
       "      <td>[Action, Casual, Indie, Simulation, Strategy]</td>\n",
       "      <td>Lost Summoner Kitty</td>\n",
       "      <td>Lost Summoner Kitty</td>\n",
       "      <td>http://store.steampowered.com/app/761140/Lost_...</td>\n",
       "      <td>2018-01-04</td>\n",
       "      <td>[Strategy, Action, Indie, Casual, Simulation]</td>\n",
       "      <td>4.49</td>\n",
       "      <td>http://steamcommunity.com/app/761140/reviews/?...</td>\n",
       "      <td>[Single-player]</td>\n",
       "      <td>4.99</td>\n",
       "      <td>False</td>\n",
       "      <td>761140</td>\n",
       "      <td>Kotoshiro</td>\n",
       "      <td>NaN</td>\n",
       "      <td>NaN</td>\n",
       "    </tr>\n",
       "    <tr>\n",
       "      <th>1</th>\n",
       "      <td>Making Fun, Inc.</td>\n",
       "      <td>[Free to Play, Indie, RPG, Strategy]</td>\n",
       "      <td>Ironbound</td>\n",
       "      <td>Ironbound</td>\n",
       "      <td>http://store.steampowered.com/app/643980/Ironb...</td>\n",
       "      <td>2018-01-04</td>\n",
       "      <td>[Free to Play, Strategy, Indie, RPG, Card Game...</td>\n",
       "      <td>NaN</td>\n",
       "      <td>http://steamcommunity.com/app/643980/reviews/?...</td>\n",
       "      <td>[Single-player, Multi-player, Online Multi-Pla...</td>\n",
       "      <td>Free To Play</td>\n",
       "      <td>False</td>\n",
       "      <td>643980</td>\n",
       "      <td>Secret Level SRL</td>\n",
       "      <td>Mostly Positive</td>\n",
       "      <td>NaN</td>\n",
       "    </tr>\n",
       "  </tbody>\n",
       "</table>\n",
       "</div>"
      ],
      "text/plain": [
       "          publisher                                         genres  \\\n",
       "0         Kotoshiro  [Action, Casual, Indie, Simulation, Strategy]   \n",
       "1  Making Fun, Inc.           [Free to Play, Indie, RPG, Strategy]   \n",
       "\n",
       "              app_name                title  \\\n",
       "0  Lost Summoner Kitty  Lost Summoner Kitty   \n",
       "1            Ironbound            Ironbound   \n",
       "\n",
       "                                                 url release_date  \\\n",
       "0  http://store.steampowered.com/app/761140/Lost_...   2018-01-04   \n",
       "1  http://store.steampowered.com/app/643980/Ironb...   2018-01-04   \n",
       "\n",
       "                                                tags  discount_price  \\\n",
       "0      [Strategy, Action, Indie, Casual, Simulation]            4.49   \n",
       "1  [Free to Play, Strategy, Indie, RPG, Card Game...             NaN   \n",
       "\n",
       "                                         reviews_url  \\\n",
       "0  http://steamcommunity.com/app/761140/reviews/?...   \n",
       "1  http://steamcommunity.com/app/643980/reviews/?...   \n",
       "\n",
       "                                               specs         price  \\\n",
       "0                                    [Single-player]          4.99   \n",
       "1  [Single-player, Multi-player, Online Multi-Pla...  Free To Play   \n",
       "\n",
       "   early_access      id         developer        sentiment metascore  \n",
       "0         False  761140         Kotoshiro              NaN       NaN  \n",
       "1         False  643980  Secret Level SRL  Mostly Positive       NaN  "
      ]
     },
     "execution_count": 2,
     "metadata": {},
     "output_type": "execute_result"
    }
   ],
   "source": [
    "rows = []\n",
    "with open ('_src/Data/steam_games.json') as f:\n",
    "    for line in f.readlines():\n",
    "        rows.append(ast.literal_eval(line))\n",
    "df=pd.DataFrame(rows)\n",
    "df.head(2)"
   ]
  },
  {
   "cell_type": "markdown",
   "metadata": {},
   "source": [
    "Comenzaremos con la primera columna que es: publisher"
   ]
  },
  {
   "cell_type": "code",
   "execution_count": 3,
   "metadata": {},
   "outputs": [
    {
     "name": "stdout",
     "output_type": "stream",
     "text": [
      "8052\n",
      "0\n"
     ]
    }
   ],
   "source": [
    "#Contamos la cantidad de valores NaN en la columna \"publisher\"\n",
    "num_nan_publisher = df[\"publisher\"].isna().sum()\n",
    "print(num_nan_publisher)\n",
    "# Cambiamos los valores NaN por \"Desconocido\" en la columna \"publisher\"\n",
    "df[\"publisher\"].fillna(\"Desconocido\", inplace=True)\n",
    "num_nan_editora = df[\"publisher\"].isna().sum()\n",
    "print(num_nan_editora)"
   ]
  },
  {
   "cell_type": "code",
   "execution_count": 4,
   "metadata": {},
   "outputs": [
    {
     "name": "stdout",
     "output_type": "stream",
     "text": [
      "True\n",
      "publisher\n",
      "<class 'str'>    32135\n",
      "Name: count, dtype: int64\n"
     ]
    }
   ],
   "source": [
    "print(all(isinstance(x, str) for x in df['publisher']))\n",
    "print(df['publisher'].apply(type).value_counts())  #Nos aseguramos de que los valores de la columan sean 'str'"
   ]
  },
  {
   "cell_type": "markdown",
   "metadata": {},
   "source": [
    "Después de realizar un análisis, las columnas _`url`_ y _`reviews_url`_ no serán relevantes para nuestro desarrollo, \n",
    "así que, la eliminaremos del df"
   ]
  },
  {
   "cell_type": "code",
   "execution_count": 5,
   "metadata": {},
   "outputs": [],
   "source": [
    "df.drop(columns=['url', 'reviews_url'], inplace=True)"
   ]
  },
  {
   "cell_type": "markdown",
   "metadata": {},
   "source": [
    "Ahora revisaremos la columna genres"
   ]
  },
  {
   "cell_type": "code",
   "execution_count": 6,
   "metadata": {},
   "outputs": [
    {
     "name": "stdout",
     "output_type": "stream",
     "text": [
      "3283\n"
     ]
    }
   ],
   "source": [
    "# Contar la cantidad de valores NaN en la columna \"genres\"\n",
    "num_nan_genres = df[\"genres\"].isna().sum()\n",
    "print(num_nan_genres)"
   ]
  },
  {
   "cell_type": "code",
   "execution_count": 7,
   "metadata": {},
   "outputs": [
    {
     "name": "stdout",
     "output_type": "stream",
     "text": [
      "False\n",
      "genres\n",
      "<class 'list'>     28852\n",
      "<class 'float'>     3283\n",
      "Name: count, dtype: int64\n"
     ]
    }
   ],
   "source": [
    "print(all(isinstance(x, str) for x in df['genres']))\n",
    "print(df['genres'].apply(type).value_counts()) #dentro de la columna \"genres\", tenemos listas\n",
    "#por ahora no lo voy a desanidar, porque para las primeras 6 funciones que me piden, no es necesario desanidarlos"
   ]
  },
  {
   "cell_type": "markdown",
   "metadata": {},
   "source": [
    "Si revisamos _`tags`_, siempre se repiten los géneros y para simplificar el modelo, será mejor que lo eliminemos "
   ]
  },
  {
   "cell_type": "code",
   "execution_count": 8,
   "metadata": {},
   "outputs": [],
   "source": [
    "df.drop(columns=['tags'], inplace=True)"
   ]
  },
  {
   "cell_type": "markdown",
   "metadata": {},
   "source": [
    "Ahora trabajaremos con las columnas 'app_name' y 'title'"
   ]
  },
  {
   "cell_type": "code",
   "execution_count": 9,
   "metadata": {},
   "outputs": [
    {
     "data": {
      "text/plain": [
       "2"
      ]
     },
     "execution_count": 9,
     "metadata": {},
     "output_type": "execute_result"
    }
   ],
   "source": [
    "# Contar la cantidad de valores NaN en la columna \"app_name\"\n",
    "num_nan_nombre_app = df[\"app_name\"].isna().sum()\n",
    "num_nan_nombre_app"
   ]
  },
  {
   "cell_type": "code",
   "execution_count": 10,
   "metadata": {},
   "outputs": [
    {
     "data": {
      "text/plain": [
       "2050"
      ]
     },
     "execution_count": 10,
     "metadata": {},
     "output_type": "execute_result"
    }
   ],
   "source": [
    "# Contar la cantidad de valores NaN en la columna \"title\"\n",
    "num_nan_titulo = df[\"title\"].isna().sum()\n",
    "num_nan_titulo"
   ]
  },
  {
   "cell_type": "code",
   "execution_count": 11,
   "metadata": {},
   "outputs": [],
   "source": [
    "# Ya que los valores de title tiene muchos NaNs, usaremos app_name y eliminaremos titulo\n",
    "df.drop(columns=['title'], inplace=True)"
   ]
  },
  {
   "cell_type": "code",
   "execution_count": 12,
   "metadata": {},
   "outputs": [],
   "source": [
    "#cambiar los valores faltantes de app_name con Desconocido\n",
    "df[\"app_name\"].fillna(\"Desconocido\", inplace=True)"
   ]
  },
  {
   "cell_type": "code",
   "execution_count": 13,
   "metadata": {},
   "outputs": [
    {
     "name": "stdout",
     "output_type": "stream",
     "text": [
      "True\n",
      "app_name\n",
      "<class 'str'>    32135\n",
      "Name: count, dtype: int64\n"
     ]
    }
   ],
   "source": [
    "print(all(isinstance(x, str) for x in df['app_name']))\n",
    "print(df['app_name'].apply(type).value_counts())"
   ]
  },
  {
   "cell_type": "markdown",
   "metadata": {},
   "source": [
    "Eliminaremos la columna id ya que será suficiente que trabajemos con la columna app_name"
   ]
  },
  {
   "cell_type": "code",
   "execution_count": 14,
   "metadata": {},
   "outputs": [],
   "source": [
    "df.drop(columns=['id'], inplace=True)"
   ]
  },
  {
   "cell_type": "markdown",
   "metadata": {},
   "source": [
    "Cambiar los valores NaN por \"Desconocido\" en la columna _`developer`_"
   ]
  },
  {
   "cell_type": "code",
   "execution_count": 15,
   "metadata": {},
   "outputs": [],
   "source": [
    "df[\"developer\"].fillna(\"Desconocido\", inplace=True)"
   ]
  },
  {
   "cell_type": "code",
   "execution_count": 16,
   "metadata": {},
   "outputs": [
    {
     "name": "stdout",
     "output_type": "stream",
     "text": [
      "0\n"
     ]
    }
   ],
   "source": [
    "# Contar la cantidad de valores NaN en la columna \"developer\"\n",
    "num_nan_developer = df[\"developer\"].isna().sum()\n",
    "print(num_nan_developer) #Ahora ya no tengo NaN en la columna desarrollador"
   ]
  },
  {
   "cell_type": "code",
   "execution_count": 17,
   "metadata": {},
   "outputs": [
    {
     "name": "stdout",
     "output_type": "stream",
     "text": [
      "True\n",
      "developer\n",
      "<class 'str'>    32135\n",
      "Name: count, dtype: int64\n"
     ]
    }
   ],
   "source": [
    "print(all(isinstance(x, str) for x in df['developer']))\n",
    "print(df['developer'].apply(type).value_counts())"
   ]
  },
  {
   "cell_type": "markdown",
   "metadata": {},
   "source": [
    "Ahora analizaré la columna price"
   ]
  },
  {
   "cell_type": "code",
   "execution_count": 18,
   "metadata": {},
   "outputs": [
    {
     "data": {
      "text/plain": [
       "1377"
      ]
     },
     "execution_count": 18,
     "metadata": {},
     "output_type": "execute_result"
    }
   ],
   "source": [
    "num_nan_precio = df[\"price\"].isna().sum()\n",
    "num_nan_precio"
   ]
  },
  {
   "cell_type": "code",
   "execution_count": 19,
   "metadata": {},
   "outputs": [
    {
     "name": "stdout",
     "output_type": "stream",
     "text": [
      "[4.99 'Free To Play' 'Free to Play' 0.99 2.99 3.99 9.99 18.99 29.99 nan\n",
      " 'Free' 10.99 1.59 14.99 1.99 59.99 8.99 6.99 7.99 39.99 19.99 7.49 12.99\n",
      " 5.99 2.49 15.99 1.25 24.99 17.99 61.99 3.49 11.99 13.99 'Free Demo'\n",
      " 'Play for Free!' 34.99 74.76 1.49 32.99 99.99 14.95 69.99 16.99 79.99\n",
      " 49.99 5.0 44.99 13.98 29.96 119.99 109.99 149.99 771.71 'Install Now'\n",
      " 21.99 89.99 'Play WARMACHINE: Tactics Demo' 0.98 139.92 4.29 64.99\n",
      " 'Free Mod' 54.99 74.99 'Install Theme' 0.89 'Third-party' 0.5 'Play Now'\n",
      " 299.99 1.29 3.0 15.0 5.49 23.99 49.0 20.99 10.93 1.39\n",
      " 'Free HITMAN™ Holiday Pack' 36.99 4.49 2.0 4.0 9.0 234.99 1.95 1.5 199.0\n",
      " 189.0 6.66 27.99 10.49 129.99 179.0 26.99 399.99 31.99 399.0 20.0 40.0\n",
      " 3.33 199.99 22.99 320.0 38.85 71.7 59.95 995.0 27.49 3.39 6.0 19.95\n",
      " 499.99 16.06 4.68 131.4 44.98 202.76 1.0 2.3 0.95 172.24 249.99 2.97\n",
      " 10.96 10.0 30.0 2.66 6.48 19.29 11.15 18.9 2.89 'Play the Demo' 99.0\n",
      " 87.94 599.0 8.98 9.69 0.49 9.98 9.95 7.0 'Starting at $499.00'\n",
      " 'Starting at $449.00' 12.89 6.49 1.87 42.99 41.99 289.99 'Free to Try'\n",
      " 23.96 5.65 12.0 13.37 189.96 124.99 'Free Movie' 19.98 160.91\n",
      " 'Free to Use']\n"
     ]
    }
   ],
   "source": [
    "unique_precios = df['price'].unique()\n",
    "print(unique_precios)"
   ]
  },
  {
   "cell_type": "code",
   "execution_count": 20,
   "metadata": {},
   "outputs": [],
   "source": [
    "#reemplazar algunos valores que no están en formato float\n",
    "df['price'] = df['price'].replace('Starting at $499.00', 499.0)\n",
    "df['price'] = df['price'].replace('Starting at $449.00', 449.0)"
   ]
  },
  {
   "cell_type": "code",
   "execution_count": 21,
   "metadata": {},
   "outputs": [],
   "source": [
    "#reemplazar en price todo lo que diga Free con 0.0\n",
    "df['price'] = df['price'].replace('Free to Play', 0.0)\n",
    "df['price'] = df['price'].replace('Free To Play', 0.0)\n",
    "df['price'] = df['price'].replace('Free', 0.0)\n",
    "df['price'] = df['price'].replace('Free Demo', 0.0)\n",
    "df['price'] = df['price'].replace('Play for Free!', 0.0)\n",
    "df['price'] = df['price'].replace('Play WARMACHINE: Tactics Demo', 0.0)\n",
    "df['price'] = df['price'].replace('Free Mod', 0.0)\n",
    "df['price'] = df['price'].replace('Free HITMAN™ Holiday Pack', 0.0)\n",
    "df['price'] = df['price'].replace('Play the Demo', 0.0)\n",
    "df['price'] = df['price'].replace('Free to Try', 0.0)\n",
    "df['price'] = df['price'].replace('Free Movie', 0.0)\n",
    "df['price'] = df['price'].replace('Free to Use', 0.0)"
   ]
  },
  {
   "cell_type": "code",
   "execution_count": 22,
   "metadata": {},
   "outputs": [
    {
     "name": "stdout",
     "output_type": "stream",
     "text": [
      "price\n",
      "<class 'float'>    32129\n",
      "<class 'str'>          6\n",
      "Name: count, dtype: int64\n"
     ]
    }
   ],
   "source": [
    "print(df['price'].apply(type).value_counts())"
   ]
  },
  {
   "cell_type": "code",
   "execution_count": 23,
   "metadata": {},
   "outputs": [
    {
     "name": "stdout",
     "output_type": "stream",
     "text": [
      "[4.99 0.0 0.99 2.99 3.99 9.99 18.99 29.99 nan 10.99 1.59 14.99 1.99 59.99\n",
      " 8.99 6.99 7.99 39.99 19.99 7.49 12.99 5.99 2.49 15.99 1.25 24.99 17.99\n",
      " 61.99 3.49 11.99 13.99 34.99 74.76 1.49 32.99 99.99 14.95 69.99 16.99\n",
      " 79.99 49.99 5.0 44.99 13.98 29.96 119.99 109.99 149.99 771.71\n",
      " 'Install Now' 21.99 89.99 0.98 139.92 4.29 64.99 54.99 74.99\n",
      " 'Install Theme' 0.89 'Third-party' 0.5 'Play Now' 299.99 1.29 3.0 15.0\n",
      " 5.49 23.99 49.0 20.99 10.93 1.39 36.99 4.49 2.0 4.0 9.0 234.99 1.95 1.5\n",
      " 199.0 189.0 6.66 27.99 10.49 129.99 179.0 26.99 399.99 31.99 399.0 20.0\n",
      " 40.0 3.33 199.99 22.99 320.0 38.85 71.7 59.95 995.0 27.49 3.39 6.0 19.95\n",
      " 499.99 16.06 4.68 131.4 44.98 202.76 1.0 2.3 0.95 172.24 249.99 2.97\n",
      " 10.96 10.0 30.0 2.66 6.48 19.29 11.15 18.9 2.89 99.0 87.94 599.0 8.98\n",
      " 9.69 0.49 9.98 9.95 7.0 499.0 449.0 12.89 6.49 1.87 42.99 41.99 289.99\n",
      " 23.96 5.65 12.0 13.37 189.96 124.99 19.98 160.91]\n"
     ]
    }
   ],
   "source": [
    "unique_precios = df['price'].unique()\n",
    "print(unique_precios)"
   ]
  },
  {
   "cell_type": "code",
   "execution_count": 24,
   "metadata": {},
   "outputs": [
    {
     "name": "stdout",
     "output_type": "stream",
     "text": [
      "1\n",
      "1\n",
      "2\n",
      "2\n"
     ]
    }
   ],
   "source": [
    "#como no sabemos los precios, eliminaremos estas filas para que no altere nuestro análisis. A demás, son poquísimas\n",
    "print(df['price'].value_counts().get('Install Now', 0))\n",
    "print(df['price'].value_counts().get('Install Theme', 0))\n",
    "print(df['price'].value_counts().get('Third-party', 0))\n",
    "print(df['price'].value_counts().get('Play Now', 0)) "
   ]
  },
  {
   "cell_type": "code",
   "execution_count": 25,
   "metadata": {},
   "outputs": [],
   "source": [
    "# Eliminar filas con los valores 'Install Now', 'Install Theme','Third-party' y 'Play Now' en la columna 'price'\n",
    "df = df.drop(df[df['price'].isin(['Install Now', 'Install Theme','Third-party', 'Play Now'])].index)"
   ]
  },
  {
   "cell_type": "code",
   "execution_count": 26,
   "metadata": {},
   "outputs": [
    {
     "name": "stdout",
     "output_type": "stream",
     "text": [
      "True\n",
      "price\n",
      "<class 'float'>    32129\n",
      "Name: count, dtype: int64\n"
     ]
    }
   ],
   "source": [
    "print(all(isinstance(x, float) for x in df['price']))\n",
    "print(df['price'].apply(type).value_counts())"
   ]
  },
  {
   "cell_type": "markdown",
   "metadata": {},
   "source": [
    "Revisar discount_price"
   ]
  },
  {
   "cell_type": "code",
   "execution_count": 27,
   "metadata": {},
   "outputs": [
    {
     "name": "stdout",
     "output_type": "stream",
     "text": [
      "[  4.49    nan   0.83   1.79   8.79   1.59   1.97   0.59   0.89   0.84\n",
      "   7.19   6.79   9.89   5.99  14.99   0.49   0.74  22.66  49.96   6.29\n",
      "   3.14  59.11   7.49  13.39  10.49  35.97   0.99   7.99   4.99  11.39\n",
      "   6.99  24.9    3.59   2.69   3.49   4.68   4.19  17.08   8.99   0.62\n",
      "   4.89   2.99  19.78   2.05   2.39  19.99  79.99  49.99 139.99   2.44\n",
      "   0.69   3.74   0.79   1.49   3.99   2.09  10.04  24.82  29.75   6.74\n",
      "   4.79   2.19   3.34   0.5    5.24   2.51   1.19   1.99   0.66   3.24\n",
      "  22.46   9.99  44.1   17.49   1.39  31.49   1.69   5.39   4.24  25.49\n",
      "   3.19  11.69  11.99]\n"
     ]
    }
   ],
   "source": [
    "unique_precios = df['discount_price'].unique()\n",
    "print(unique_precios)"
   ]
  },
  {
   "cell_type": "code",
   "execution_count": 28,
   "metadata": {},
   "outputs": [
    {
     "name": "stdout",
     "output_type": "stream",
     "text": [
      "31904\n"
     ]
    }
   ],
   "source": [
    "print(df['discount_price'].isna().sum())"
   ]
  },
  {
   "cell_type": "code",
   "execution_count": 29,
   "metadata": {},
   "outputs": [
    {
     "name": "stdout",
     "output_type": "stream",
     "text": [
      "True\n",
      "discount_price\n",
      "<class 'float'>    32129\n",
      "Name: count, dtype: int64\n"
     ]
    }
   ],
   "source": [
    "print(all(isinstance(x, float) for x in df['discount_price']))\n",
    "print(df['discount_price'].apply(type).value_counts())"
   ]
  },
  {
   "cell_type": "markdown",
   "metadata": {},
   "source": [
    "En la columna _`sentiment`_ realizaremos algunos cambios porque los datos no están muy bien categorizados"
   ]
  },
  {
   "cell_type": "code",
   "execution_count": 30,
   "metadata": {},
   "outputs": [
    {
     "data": {
      "text/plain": [
       "array([nan, 'Mostly Positive', 'Mixed', '1 user reviews',\n",
       "       '3 user reviews', '8 user reviews', 'Very Positive',\n",
       "       'Overwhelmingly Positive', '6 user reviews', '5 user reviews',\n",
       "       '2 user reviews', 'Very Negative', 'Positive', 'Mostly Negative',\n",
       "       '9 user reviews', 'Negative', '4 user reviews', '7 user reviews',\n",
       "       'Overwhelmingly Negative'], dtype=object)"
      ]
     },
     "execution_count": 30,
     "metadata": {},
     "output_type": "execute_result"
    }
   ],
   "source": [
    "df['sentiment'].unique()"
   ]
  },
  {
   "cell_type": "code",
   "execution_count": 31,
   "metadata": {},
   "outputs": [],
   "source": [
    "#Cambiar los que no tienen una clasificación a \"sin clasificar\"\n",
    "df['sentiment'] = df['sentiment'].str.replace(r'\\d+ user reviews', 'sin clasificar', regex=True)\n",
    "df['sentiment'] = df['sentiment'].fillna('sin clasificar')"
   ]
  },
  {
   "cell_type": "code",
   "execution_count": 32,
   "metadata": {},
   "outputs": [
    {
     "data": {
      "text/plain": [
       "array(['sin clasificar', 'Mostly Positive', 'Mixed', 'Very Positive',\n",
       "       'Overwhelmingly Positive', 'Very Negative', 'Positive',\n",
       "       'Mostly Negative', 'Negative', 'Overwhelmingly Negative'],\n",
       "      dtype=object)"
      ]
     },
     "execution_count": 32,
     "metadata": {},
     "output_type": "execute_result"
    }
   ],
   "source": [
    "df['sentiment'].unique()"
   ]
  },
  {
   "cell_type": "code",
   "execution_count": 33,
   "metadata": {},
   "outputs": [
    {
     "name": "stdout",
     "output_type": "stream",
     "text": [
      "True\n",
      "sentiment\n",
      "<class 'str'>    32129\n",
      "Name: count, dtype: int64\n"
     ]
    }
   ],
   "source": [
    "print(all(isinstance(x, str) for x in df['sentiment']))\n",
    "print(df['sentiment'].apply(type).value_counts())"
   ]
  },
  {
   "cell_type": "markdown",
   "metadata": {},
   "source": [
    "Continuamos con la columna metascore"
   ]
  },
  {
   "cell_type": "code",
   "execution_count": 34,
   "metadata": {},
   "outputs": [
    {
     "data": {
      "text/plain": [
       "array([nan, 96, 84, 80, 76, 70, 'NA', 69, 81, 75, 72, 66, 67, 77, 91, 89,\n",
       "       83, 61, 88, 65, 94, 57, 86, 87, 92, 79, 82, 58, 74, 85, 90, 68, 71,\n",
       "       60, 73, 59, 64, 54, 53, 78, 51, 44, 63, 38, 56, 49, 52, 62, 93, 48,\n",
       "       34, 95, 43, 55, 24, 46, 41, 20, 39, 45, 35, 47, 40, 36, 50, 32, 37,\n",
       "       33, 42, 27, 29, 30], dtype=object)"
      ]
     },
     "execution_count": 34,
     "metadata": {},
     "output_type": "execute_result"
    }
   ],
   "source": [
    "df['metascore'].unique()"
   ]
  },
  {
   "cell_type": "code",
   "execution_count": 35,
   "metadata": {},
   "outputs": [],
   "source": [
    "import numpy as np\n",
    "\n",
    "# Reemplazar 'NA' con NaN\n",
    "df['metascore'].replace('NA', np.nan, inplace=True)"
   ]
  },
  {
   "cell_type": "code",
   "execution_count": 36,
   "metadata": {},
   "outputs": [
    {
     "data": {
      "text/plain": [
       "array([nan, 96., 84., 80., 76., 70., 69., 81., 75., 72., 66., 67., 77.,\n",
       "       91., 89., 83., 61., 88., 65., 94., 57., 86., 87., 92., 79., 82.,\n",
       "       58., 74., 85., 90., 68., 71., 60., 73., 59., 64., 54., 53., 78.,\n",
       "       51., 44., 63., 38., 56., 49., 52., 62., 93., 48., 34., 95., 43.,\n",
       "       55., 24., 46., 41., 20., 39., 45., 35., 47., 40., 36., 50., 32.,\n",
       "       37., 33., 42., 27., 29., 30.])"
      ]
     },
     "execution_count": 36,
     "metadata": {},
     "output_type": "execute_result"
    }
   ],
   "source": [
    "df['metascore'].unique()"
   ]
  },
  {
   "cell_type": "code",
   "execution_count": 37,
   "metadata": {},
   "outputs": [
    {
     "name": "stdout",
     "output_type": "stream",
     "text": [
      "True\n",
      "metascore\n",
      "<class 'float'>    32129\n",
      "Name: count, dtype: int64\n"
     ]
    }
   ],
   "source": [
    "print(all(isinstance(x, float) for x in df['metascore']))\n",
    "print(df['metascore'].apply(type).value_counts())"
   ]
  },
  {
   "cell_type": "markdown",
   "metadata": {},
   "source": [
    "Realizamos modificaciones en la columna _`release_date`_"
   ]
  },
  {
   "cell_type": "code",
   "execution_count": 38,
   "metadata": {},
   "outputs": [],
   "source": [
    "# Convertimos la columna 'release_date' al formato de fecha\n",
    "df['release_date'] = pd.to_datetime(df['release_date'], errors='coerce')"
   ]
  },
  {
   "cell_type": "code",
   "execution_count": 39,
   "metadata": {},
   "outputs": [],
   "source": [
    "# Crear una nueva columna 'year' que contiene solo el año de la fecha\n",
    "df['year'] = df['release_date'].dt.strftime('%Y')"
   ]
  },
  {
   "cell_type": "code",
   "execution_count": 40,
   "metadata": {},
   "outputs": [],
   "source": [
    "#Eliminar la columna \"release_date\"\n",
    "df.drop(columns=['release_date'], inplace=True)"
   ]
  },
  {
   "cell_type": "code",
   "execution_count": 41,
   "metadata": {},
   "outputs": [
    {
     "data": {
      "text/plain": [
       "year\n",
       "<class 'str'>      29777\n",
       "<class 'float'>     2352\n",
       "Name: count, dtype: int64"
      ]
     },
     "execution_count": 41,
     "metadata": {},
     "output_type": "execute_result"
    }
   ],
   "source": [
    "df['year'].apply(type).value_counts()"
   ]
  },
  {
   "cell_type": "code",
   "execution_count": 42,
   "metadata": {},
   "outputs": [
    {
     "data": {
      "text/plain": [
       "2352"
      ]
     },
     "execution_count": 42,
     "metadata": {},
     "output_type": "execute_result"
    }
   ],
   "source": [
    "df['year'].isna().sum() #hay 2352 registros nulos en la fila year"
   ]
  },
  {
   "cell_type": "markdown",
   "metadata": {},
   "source": [
    "Como todas las funciones que piden hacer está en base al **año**, es mejor eliminar los registros NaN, porque no van a alterar el resultado"
   ]
  },
  {
   "cell_type": "code",
   "execution_count": 43,
   "metadata": {},
   "outputs": [],
   "source": [
    "df.dropna(subset=['year'], inplace=True)"
   ]
  },
  {
   "cell_type": "markdown",
   "metadata": {},
   "source": [
    "Convertimos las columnas _`genres`_ y _`specs`_ a cadena"
   ]
  },
  {
   "cell_type": "code",
   "execution_count": 44,
   "metadata": {},
   "outputs": [],
   "source": [
    "# Reemplaza valores nulos por cadena vacia\n",
    "df['genres'].fillna('', inplace=True)\n",
    "\n",
    "# Convierte los valores en la columna 'genres' a cadena\n",
    "df['genres'] = df['genres'].apply(', '.join)"
   ]
  },
  {
   "cell_type": "code",
   "execution_count": 45,
   "metadata": {},
   "outputs": [],
   "source": [
    "# Reemplaza valores nulos por cadena vacia\n",
    "df['specs'].fillna('', inplace=True)\n",
    "\n",
    "# Convierte los valores en la columna 'specs' a cadena\n",
    "df['specs'] = df['specs'].apply(', '.join)"
   ]
  },
  {
   "cell_type": "markdown",
   "metadata": {},
   "source": [
    "Volvemos a colocar los valores nulos a _`specs`_ y _`genres`_"
   ]
  },
  {
   "cell_type": "code",
   "execution_count": 46,
   "metadata": {},
   "outputs": [],
   "source": [
    "\n",
    "df['specs'] = df['specs'].apply(lambda x: None if x == '' else x)\n",
    "df['genres'] = df['genres'].apply(lambda x: None if x == '' else x)"
   ]
  },
  {
   "cell_type": "code",
   "execution_count": 47,
   "metadata": {},
   "outputs": [
    {
     "data": {
      "text/plain": [
       "(29777, 11)"
      ]
     },
     "execution_count": 47,
     "metadata": {},
     "output_type": "execute_result"
    }
   ],
   "source": [
    "df.shape #Al final solo nos quedamos con 11 columanas y 29777 registros"
   ]
  },
  {
   "cell_type": "markdown",
   "metadata": {},
   "source": [
    "Importaremos el archivo en formato **parquet** porque pesa menos"
   ]
  },
  {
   "cell_type": "code",
   "execution_count": 48,
   "metadata": {},
   "outputs": [],
   "source": [
    "df.to_parquet('_src/Data/steam_games_transform.parquet')"
   ]
  }
 ],
 "metadata": {
  "kernelspec": {
   "display_name": "Python 3",
   "language": "python",
   "name": "python3"
  },
  "language_info": {
   "codemirror_mode": {
    "name": "ipython",
    "version": 3
   },
   "file_extension": ".py",
   "mimetype": "text/x-python",
   "name": "python",
   "nbconvert_exporter": "python",
   "pygments_lexer": "ipython3",
   "version": "3.11.4"
  },
  "orig_nbformat": 4
 },
 "nbformat": 4,
 "nbformat_minor": 2
}
